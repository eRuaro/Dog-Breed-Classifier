{
  "nbformat": 4,
  "nbformat_minor": 0,
  "metadata": {
    "colab": {
      "name": "dog_breed_classifier.ipynb",
      "provenance": [],
      "mount_file_id": "1PqfcngA1HtBLnkF_3hqjJTjumhp-GgcX",
      "authorship_tag": "ABX9TyMhIXGtvPY6WHnr1t++A8Qr",
      "include_colab_link": true
    },
    "kernelspec": {
      "name": "python3",
      "display_name": "Python 3"
    },
    "language_info": {
      "name": "python"
    },
    "accelerator": "GPU"
  },
  "cells": [
    {
      "cell_type": "markdown",
      "metadata": {
        "id": "view-in-github",
        "colab_type": "text"
      },
      "source": [
        "<a href=\"https://colab.research.google.com/github/eRuaro/Dog-Breed-Classifier/blob/main/dog_breed_classifier.ipynb\" target=\"_parent\"><img src=\"https://colab.research.google.com/assets/colab-badge.svg\" alt=\"Open In Colab\"/></a>"
      ]
    },
    {
      "cell_type": "markdown",
      "metadata": {
        "id": "mJDWcvXup3zZ"
      },
      "source": [
        "# End-to-end Dog Breed Classification with Tensorflow\n",
        "\n",
        "This notebook builds a Dog Breed Classifier using Google Collab, Tensorflow, and Tensorflow Hub.\n",
        "\n",
        "## 1. Problem\n",
        "\n",
        "Identifying the breed of a dog given an image of a dog.\n",
        "\n",
        "When I see a cute dog, I want to know what breed it is.\n",
        "\n",
        "## 2. Data\n",
        "\n",
        "The data is gathered from Kaggle's dog breed identification competition which houses over 20,000 dog breed images.\n",
        "\n",
        "https://www.kaggle.com/c/dog-breed-identification/data\n",
        "\n",
        "## 3. Evaluation\n",
        "\n",
        "Testing is evaluated on Multi Class Log Loss between the predicted probability and the observed target.\n",
        "\n",
        "For each image in the test set, predict a probability for each of the different breeds.\n",
        "\n",
        "Example:\n",
        "- What is the probability that this is a beagle?\n",
        "- What is the probability that this is a labrador?\n",
        "\n",
        "## 4. Features\n",
        "\n",
        "Data information:\n",
        "- Dealing with images (unstructured data)\n",
        "- Due to image dataset, best to use deep learning / transfer learning\n",
        "- There are 120 breeds of dogs in the dataset (120 different classes thus Multi Class Log Loss is used)\n",
        "- Over 10,000 images each in both training, and test set.\n",
        "- Test set images have no label as these are used for predicting"
      ]
    },
    {
      "cell_type": "code",
      "metadata": {
        "colab": {
          "base_uri": "https://localhost:8080/"
        },
        "id": "Ik1PxHnblwn5",
        "outputId": "42ffc6e8-b1d8-429c-e799-d9236c51b0e2"
      },
      "source": [
        "from google.colab import drive\n",
        "drive.mount('/content/drive')"
      ],
      "execution_count": null,
      "outputs": [
        {
          "output_type": "stream",
          "text": [
            "Drive already mounted at /content/drive; to attempt to forcibly remount, call drive.mount(\"/content/drive\", force_remount=True).\n"
          ],
          "name": "stdout"
        }
      ]
    },
    {
      "cell_type": "markdown",
      "metadata": {
        "id": "5TTNY3w8o0k1"
      },
      "source": [
        "# Setting up Our Data"
      ]
    },
    {
      "cell_type": "code",
      "metadata": {
        "colab": {
          "base_uri": "https://localhost:8080/"
        },
        "id": "W7eB_CjKlzhv",
        "outputId": "8589bf76-1981-4b48-dedf-bd23f8f16c01"
      },
      "source": [
        "!ls /content/drive/MyDrive/Tensorflow"
      ],
      "execution_count": 2,
      "outputs": [
        {
          "output_type": "stream",
          "text": [
            "dog_breed_classifier.ipynb  dog-breed-identification\n"
          ],
          "name": "stdout"
        }
      ]
    },
    {
      "cell_type": "code",
      "metadata": {
        "id": "qw___QEDo6F6"
      },
      "source": [
        "#Unzipping a file in Colab\n",
        "#!unzip \"path-to-zip\" -d \"path-to-fodler-where-to-zip\""
      ],
      "execution_count": 3,
      "outputs": []
    },
    {
      "cell_type": "markdown",
      "metadata": {
        "id": "TG6OW1Imr--Z"
      },
      "source": [
        "# Importing Tools\n",
        "\n",
        "- Import Tensorflow ✅\n",
        "- Import Tensorflow Hub ✅\n",
        "- Use a GPU ✅"
      ]
    },
    {
      "cell_type": "code",
      "metadata": {
        "colab": {
          "base_uri": "https://localhost:8080/"
        },
        "id": "Fd0Pn0C6sBXX",
        "outputId": "3538d9fd-6d36-4aae-a630-93a1aa5d77b2"
      },
      "source": [
        "import tensorflow as tf\n",
        "import tensorflow_hub as hub \n",
        "\n",
        "print(\"TF Version:\", tf.__version__)\n",
        "print(\"TF Hub Version:\", hub.__version__)\n",
        "\n",
        "print(\"GPU\", \"available\" if tf.config.list_physical_devices(\"GPU\") else \"not available\")"
      ],
      "execution_count": 1,
      "outputs": [
        {
          "output_type": "stream",
          "text": [
            "TF Version: 2.5.0\n",
            "TF Hub Version: 0.12.0\n",
            "GPU available\n"
          ],
          "name": "stdout"
        }
      ]
    },
    {
      "cell_type": "code",
      "metadata": {
        "id": "ShE5IOpPtZwF"
      },
      "source": [
        ""
      ],
      "execution_count": null,
      "outputs": []
    }
  ]
}